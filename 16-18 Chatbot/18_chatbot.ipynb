{
 "cells": [
  {
   "cell_type": "markdown",
   "metadata": {
    "id": "_cn_eSVjpAZ2"
   },
   "source": [
    "# 한국어 관련 라이브러리 설치"
   ]
  },
  {
   "cell_type": "code",
   "execution_count": null,
   "metadata": {
    "id": "2MBWyCWOpMCt"
   },
   "outputs": [],
   "source": [
    "# 설치 후 런타임 다시 시작 필요\n",
    "!git clone https://github.com/SOMJANG/Mecab-ko-for-Google-Colab.git\n",
    "!bash ./Mecab-ko-for-Google-Colab/install_mecab-ko_on_colab_light_220429.sh"
   ]
  },
  {
   "cell_type": "markdown",
   "metadata": {
    "id": "gxKFFSX4oNzt"
   },
   "source": [
    "# 한글 폰트 설치"
   ]
  },
  {
   "cell_type": "code",
   "execution_count": null,
   "metadata": {
    "id": "9w3yj2Apo2vt"
   },
   "outputs": [],
   "source": [
    "# 한글폰트 설치: 실행후 런타임 재시작 필요\n",
    "!sudo apt-get install -y fonts-nanum\n",
    "!sudo fc-cache -fv\n",
    "!rm ~/.cache/matplotlib -rf"
   ]
  },
  {
   "cell_type": "code",
   "execution_count": null,
   "metadata": {
    "id": "kaAt6pJDo9zL"
   },
   "outputs": [],
   "source": [
    "# 한글 표시 여부 확인\n",
    "import matplotlib.pyplot as plt\n",
    "plt.rcParams['font.family'] = 'NanumBarunGothic' # 나눔바른고딕 적용하기\n",
    "\n",
    "# 예제 데이터\n",
    "heights = [150, 160, 170, 180, 190]  # 키 (cm)\n",
    "weights = [50, 60, 70, 80, 90]       # 몸무게 (kg)\n",
    "\n",
    "# 산점도 그리기\n",
    "plt.scatter(heights, weights)\n",
    "\n",
    "# 제목 및 레이블 추가\n",
    "plt.title(\"키와 몸무게\")\n",
    "plt.xlabel(\"키 (cm)\")\n",
    "plt.ylabel(\"몸무게 (kg)\")\n",
    "\n",
    "# 그래프 표시\n",
    "plt.show()"
   ]
  },
  {
   "cell_type": "markdown",
   "metadata": {},
   "source": [
    "# 외부에서 데이터 다운로드 및 확인"
   ]
  },
  {
   "cell_type": "code",
   "execution_count": null,
   "metadata": {},
   "outputs": [],
   "source": [
    "!git clone git@github.com:songys/Chatbot_data.git"
   ]
  },
  {
   "cell_type": "code",
   "execution_count": null,
   "metadata": {},
   "outputs": [],
   "source": []
  },
  {
   "cell_type": "markdown",
   "metadata": {
    "id": "t6FdIxm0qEiZ"
   },
   "source": [
    "# 데이터 정제 함수 선언"
   ]
  },
  {
   "cell_type": "code",
   "execution_count": null,
   "metadata": {
    "id": "U51lFcTkp0FM"
   },
   "outputs": [],
   "source": [
    "import re\n",
    "\n",
    "def preprocess_sentence(sentence, s_token=False, e_token=False):\n",
    "    sentence = sentence.lower().strip()\n",
    "\n",
    "    sentence = re.sub(r\"([?.!,])\", r\" \\1 \", sentence) # 구두점 분리\n",
    "    sentence = re.sub(r'[\" \"]+', \" \", sentence) # 공백 제거\n",
    "    sentence = re.sub(r\"[^ㄱ-ㅎ가-힣a-zA-Z?.!,]+\", \" \", sentence) # 글자 및 구두점 외 특수문자 제거\n",
    "    sentence = sentence.strip()\n",
    "\n",
    "    if s_token:\n",
    "        sentence = '<start> ' + sentence\n",
    "\n",
    "    if e_token:\n",
    "        sentence += ' <end>'\n",
    "\n",
    "    return sentence"
   ]
  },
  {
   "cell_type": "markdown",
   "metadata": {
    "id": "Ub7A5tEtqXPa"
   },
   "source": [
    "# 데이터 로드 및 토큰화"
   ]
  },
  {
   "cell_type": "code",
   "execution_count": null,
   "metadata": {
    "id": "BXzWc6nUqZO2"
   },
   "outputs": [],
   "source": [
    "# 파일 읽기\n",
    "file_path = \"\" # 파일 경로 입력\n",
    "\n",
    "with open(file_path, \"r\", encoding=\"utf-8\") as loaded_file:\n",
    "    loaded_lines = loaded_file.readlines()\n",
    "\n",
    "preprocessed_corpus = [preprocess_sentence(line, s_token=True, e_token=True) for line in loaded_lines] # 시작/종료 토큰 사용 전처리"
   ]
  },
  {
   "cell_type": "code",
   "execution_count": null,
   "metadata": {
    "id": "XmcoZZg3rR_d"
   },
   "outputs": [],
   "source": [
    "# 한국어 포함된 코퍼스 토큰화\n",
    "import MeCab\n",
    "\n",
    "# MeCab 초기화\n",
    "mecab = Mecab()\n",
    "\n",
    "# 한국어 토큰화\n",
    "kor_corpus = [mecab.morphs(sentence) for sentence in preprocessed_corpus]"
   ]
  },
  {
   "cell_type": "markdown",
   "metadata": {},
   "source": [
    "# 어휘 대체(Lexical Substitution)을 통한 데이터 증강"
   ]
  },
  {
   "cell_type": "code",
   "execution_count": null,
   "metadata": {},
   "outputs": [],
   "source": [
    "!git clone git@github.com:Kyubyong/wordvectors.git # ko.bin 파일 사용"
   ]
  },
  {
   "cell_type": "markdown",
   "metadata": {},
   "source": [
    "# 데이터 벡터화"
   ]
  },
  {
   "cell_type": "code",
   "execution_count": null,
   "metadata": {},
   "outputs": [],
   "source": [
    "# 아래와 같이 코퍼스 전체에 시작 및 종료 토큰 추가\n",
    "sample_data = [\"12\", \"시\", \"땡\", \"!\"]\n",
    "\n",
    "print([\"<start>\"] + sample_data + [\"<end>\"])"
   ]
  },
  {
   "cell_type": "markdown",
   "metadata": {},
   "source": [
    "특수 토큰을 더함으로써 ans_corpus 또한 완성이 되었으니, que_corpus 와 결합하여 전체 데이터에 대한 단어 사전을 구축하고 벡터화하여 enc_train 과 dec_train 을 얻으세요!"
   ]
  },
  {
   "cell_type": "markdown",
   "metadata": {},
   "source": [
    "# 훈련\n",
    "\n",
    "## 예문\n",
    "1. 지루하다, 놀러가고 싶어.\n",
    "2. 오늘 일찍 일어났더니 피곤하다.\n",
    "3. 간만에 여자친구랑 데이트 하기로 했어.\n",
    "4. 집에 있는다는 소리야.\n",
    "\n",
    "---\n",
    "\n",
    "## 제출\n",
    "\n",
    "Translations\n",
    "> 1. 잠깐 쉬 어도 돼요 . <end>\n",
    "> 2. 맛난 거 드세요 . <end>\n",
    "> 3. 떨리 겠 죠 . <end>\n",
    "> 4. 좋 아 하 면 그럴 수 있 어요 . <end>\n",
    "\n",
    "Hyperparameters\n",
    "> n_layers: 1\n",
    "> d_model: 368\n",
    "> n_heads: 8\n",
    "> d_ff: 1024\n",
    "> dropout: 0.2\n",
    "\n",
    "Training Parameters\n",
    "> Warmup Steps: 1000\n",
    "> Batch Size: 64\n",
    "> Epoch At: 10"
   ]
  },
  {
   "cell_type": "markdown",
   "metadata": {},
   "source": [
    "# 성능 측정\n",
    "\n",
    "- BLEU Score를 계산하는 calculate_bleu() 함수도 적용"
   ]
  },
  {
   "cell_type": "code",
   "execution_count": null,
   "metadata": {},
   "outputs": [],
   "source": []
  }
 ],
 "metadata": {
  "colab": {
   "authorship_tag": "ABX9TyOb+a3dHFDinwMizJL2pqJ/",
   "provenance": [
    {
     "file_id": "1TdtOSUMl_jcE6OwwzWlUrtpEYVnj90wQ",
     "timestamp": 1701220391104
    }
   ]
  },
  "kernelspec": {
   "display_name": "Python 3 (ipykernel)",
   "language": "python",
   "name": "python3"
  },
  "language_info": {
   "codemirror_mode": {
    "name": "ipython",
    "version": 3
   },
   "file_extension": ".py",
   "mimetype": "text/x-python",
   "name": "python",
   "nbconvert_exporter": "python",
   "pygments_lexer": "ipython3",
   "version": "3.8.10"
  }
 },
 "nbformat": 4,
 "nbformat_minor": 4
}
